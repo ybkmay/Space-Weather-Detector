{
 "cells": [
  {
   "cell_type": "code",
   "execution_count": 3,
   "metadata": {},
   "outputs": [],
   "source": [
    "import cv2 as cv\n",
    "import numpy as np\n",
    "import os\n",
    "from sklearn import metrics"
   ]
  },
  {
   "cell_type": "code",
   "execution_count": 11,
   "metadata": {},
   "outputs": [],
   "source": [
    "def detect(path_img,threshold):\n",
    "\n",
    "    #Input\n",
    "    img = cv.imread(path_img)\n",
    "    size = len(img)\n",
    "\n",
    "    #Grayscale\n",
    "    img = cv.cvtColor(img, cv.COLOR_BGR2GRAY)\n",
    "\n",
    "    #Thresholding\n",
    "    ret,img = cv.threshold(img, threshold, 255, cv.THRESH_BINARY)\n",
    "    \n",
    "    #Mask\n",
    "    mask = np.zeros((size,size,3), np.uint8)\n",
    "    c = int(size/2)\n",
    "    cv.ellipse(mask,(c,c-100),(100,100),0,0,360,(255,255,255),5)\n",
    "    mask = cv.cvtColor(mask, cv.COLOR_BGR2GRAY)\n",
    "\n",
    "    #Pixel Matching\n",
    "    result = cv.bitwise_and(img,img,mask=mask)\n",
    "    matched = sum(sum(result))*100/sum(sum(mask))\n",
    "\n",
    "    #Edge prewit\n",
    "    \n",
    "    #Result\n",
    "    # window = np.concatenate((img,mask,result), axis=1)\n",
    "    # cv.imshow(\"window\",window)\n",
    "    # cv.waitKey(0)\n",
    "    # cv.destroyAllWindows()\n",
    "    return matched"
   ]
  },
  {
   "cell_type": "code",
   "execution_count": 15,
   "metadata": {},
   "outputs": [
    {
     "name": "stdout",
     "output_type": "stream",
     "text": [
      "              precision    recall  f1-score   support\n",
      "\n",
      "       False       0.77      0.76      0.76       230\n",
      "        True       0.56      0.57      0.57       124\n",
      "\n",
      "    accuracy                           0.69       354\n",
      "   macro avg       0.67      0.67      0.67       354\n",
      "weighted avg       0.70      0.69      0.70       354\n",
      "\n"
     ]
    }
   ],
   "source": [
    "ds = []\n",
    "pathu = r\"C:\\Users\\y\\code\\ai\\u\"\n",
    "pathnu = r\"C:\\Users\\y\\code\\ai\\nu\"\n",
    "for img_path in os.listdir(pathu):\n",
    "    ds.append(pathu+'\\\\'+img_path)\n",
    "for img_path in os.listdir(pathnu):\n",
    "    ds.append(pathnu+'\\\\'+img_path)\n",
    "\n",
    "pred = [ds[i].split('\\\\')[-2]=='u' for i in range(len(ds))]\n",
    "res = [detect(ds[i],100,54)>54 for i in range(len(ds))]\n",
    "\n",
    "print(metrics.classification_report(pred,res))\n",
    "print(metrics.confusion_matrix(pred,res))"
   ]
  }
 ],
 "metadata": {
  "kernelspec": {
   "display_name": "Python 3.10.8 64-bit",
   "language": "python",
   "name": "python3"
  },
  "language_info": {
   "codemirror_mode": {
    "name": "ipython",
    "version": 3
   },
   "file_extension": ".py",
   "mimetype": "text/x-python",
   "name": "python",
   "nbconvert_exporter": "python",
   "pygments_lexer": "ipython3",
   "version": "3.10.8"
  },
  "orig_nbformat": 4,
  "vscode": {
   "interpreter": {
    "hash": "eebb6a8040ced26c3912d1ebfa34b02a5f174f4a5bf99dee8a8f8392b94169a9"
   }
  }
 },
 "nbformat": 4,
 "nbformat_minor": 2
}
